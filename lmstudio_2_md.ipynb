{
 "cells": [
  {
   "cell_type": "code",
   "execution_count": 1,
   "metadata": {},
   "outputs": [],
   "source": [
    "json_filename = \"1234567892331.conversation.json\"\n",
    "md_filename = json_filename[:-5] + \".md\""
   ]
  },
  {
   "cell_type": "code",
   "execution_count": 2,
   "metadata": {},
   "outputs": [],
   "source": [
    "import json\n",
    "# import markdown"
   ]
  },
  {
   "cell_type": "code",
   "execution_count": 3,
   "metadata": {},
   "outputs": [],
   "source": [
    "# Read json file and return data\n",
    "def get_json_data(filename: str) -> json:\n",
    "    with open(filename, \"r\") as file:\n",
    "        json_data = json.load(file)\n",
    "    \n",
    "    return json_data"
   ]
  },
  {
   "cell_type": "code",
   "execution_count": 4,
   "metadata": {},
   "outputs": [],
   "source": [
    "# Extract chat title\n",
    "def extract_title(json_data: json) -> str:\n",
    "    return json_data[\"name\"]"
   ]
  },
  {
   "cell_type": "code",
   "execution_count": 5,
   "metadata": {},
   "outputs": [],
   "source": [
    "# Extract message text and returns two lists, one containing user messages and \n",
    "# the other containing assistant messages\n",
    "def extract_msgs(json_data: json) -> tuple:\n",
    "    msgs_assistant = []\n",
    "    msgs_user = []\n",
    "    for msg in json_data[\"messages\"]:\n",
    "        if msg['versions'][0]['role'] == \"user\":\n",
    "            msgs_user.append(msg['versions'][0]['content'][0]['text'])\n",
    "        else:\n",
    "            msgs_assistant.append(msg['versions'][0]['steps'][0]['content'][0]['text'])\n",
    "    \n",
    "    return (msgs_user, msgs_assistant)"
   ]
  },
  {
   "cell_type": "code",
   "execution_count": 6,
   "metadata": {},
   "outputs": [],
   "source": [
    "# Create content for the markdown file\n",
    "def make_md_content(title: str, msgs_user: list, msgs_assistant: list) -> str:\n",
    "    md_content = f\"# {title}\\n\\n\"\n",
    "    \n",
    "    for x,y in zip(msgs_user, msgs_assistant):\n",
    "        md_content += \"## User\\n\"      + \"```\\n\" + x + \"\\n```\" + \"\\n\\n\"\n",
    "        md_content += \"## Assistant\\n\" + \"```\\n\" + y + \"\\n```\" + \"\\n\\n\"\n",
    "\n",
    "    return md_content"
   ]
  },
  {
   "cell_type": "code",
   "execution_count": 7,
   "metadata": {},
   "outputs": [],
   "source": [
    "# Write the data extracted from json to markdown including\n",
    "# title and messages\n",
    "def write_markdown(filename: str, md_content: str) -> None:\n",
    "    with open(filename, \"w\") as md_file:\n",
    "        md_file.write(md_content)"
   ]
  },
  {
   "cell_type": "code",
   "execution_count": 8,
   "metadata": {},
   "outputs": [],
   "source": [
    "json_data = get_json_data(json_filename)\n",
    "title = extract_title(json_data)\n",
    "msgs_user, msgs_assistant = extract_msgs(json_data)\n",
    "md_content = make_md_content(title, msgs_user, msgs_assistant)\n",
    "write_markdown(md_filename, md_content)"
   ]
  },
  {
   "cell_type": "code",
   "execution_count": 9,
   "metadata": {},
   "outputs": [],
   "source": []
  }
 ],
 "metadata": {
  "kernelspec": {
   "display_name": "Python 3",
   "language": "python",
   "name": "python3"
  },
  "language_info": {
   "codemirror_mode": {
    "name": "ipython",
    "version": 3
   },
   "file_extension": ".py",
   "mimetype": "text/x-python",
   "name": "python",
   "nbconvert_exporter": "python",
   "pygments_lexer": "ipython3",
   "version": "3.11.9"
  }
 },
 "nbformat": 4,
 "nbformat_minor": 2
}
